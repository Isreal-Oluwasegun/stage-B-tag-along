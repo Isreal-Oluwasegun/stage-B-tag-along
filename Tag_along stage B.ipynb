{
 "cells": [
  {
   "cell_type": "code",
   "execution_count": 82,
   "id": "9763f0aa",
   "metadata": {},
   "outputs": [],
   "source": [
    "import pandas as pd\n",
    "import numpy\n",
    "from sklearn.linear_model import LinearRegression, Ridge\n",
    "from sklearn.metrics import mean_absolute_error\n",
    "from sklearn.pipeline import make_pipeline\n",
    "import seaborn as sns\n",
    "from sklearn.metrics import mean_squared_error\n",
    "from sklearn.model_selection import train_test_split"
   ]
  },
  {
   "cell_type": "markdown",
   "id": "2963bfbb",
   "metadata": {},
   "source": [
    "# Wrangling function"
   ]
  },
  {
   "cell_type": "code",
   "execution_count": 70,
   "id": "645f8b6b",
   "metadata": {},
   "outputs": [],
   "source": [
    "def wrangle(filepath):\n",
    "    df = pd.read_csv(\"energydata_complete.csv\")\n",
    "    \n",
    "    # drop high cardinality variable\n",
    "    df.drop(columns=[\"lights\",\"date\"], inplace=True)\n",
    "    \n",
    "    return df"
   ]
  },
  {
   "cell_type": "code",
   "execution_count": 71,
   "id": "c55ab8f4",
   "metadata": {},
   "outputs": [],
   "source": [
    "df = wrangle(\"energydata_complete.csv\")"
   ]
  },
  {
   "cell_type": "code",
   "execution_count": 74,
   "id": "39f47222",
   "metadata": {
    "scrolled": true
   },
   "outputs": [
    {
     "name": "stdout",
     "output_type": "stream",
     "text": [
      "<class 'pandas.core.frame.DataFrame'>\n",
      "RangeIndex: 19735 entries, 0 to 19734\n",
      "Data columns (total 27 columns):\n",
      " #   Column       Non-Null Count  Dtype  \n",
      "---  ------       --------------  -----  \n",
      " 0   Appliances   19735 non-null  int64  \n",
      " 1   T1           19735 non-null  float64\n",
      " 2   RH_1         19735 non-null  float64\n",
      " 3   T2           19735 non-null  float64\n",
      " 4   RH_2         19735 non-null  float64\n",
      " 5   T3           19735 non-null  float64\n",
      " 6   RH_3         19735 non-null  float64\n",
      " 7   T4           19735 non-null  float64\n",
      " 8   RH_4         19735 non-null  float64\n",
      " 9   T5           19735 non-null  float64\n",
      " 10  RH_5         19735 non-null  float64\n",
      " 11  T6           19735 non-null  float64\n",
      " 12  RH_6         19735 non-null  float64\n",
      " 13  T7           19735 non-null  float64\n",
      " 14  RH_7         19735 non-null  float64\n",
      " 15  T8           19735 non-null  float64\n",
      " 16  RH_8         19735 non-null  float64\n",
      " 17  T9           19735 non-null  float64\n",
      " 18  RH_9         19735 non-null  float64\n",
      " 19  T_out        19735 non-null  float64\n",
      " 20  Press_mm_hg  19735 non-null  float64\n",
      " 21  RH_out       19735 non-null  float64\n",
      " 22  Windspeed    19735 non-null  float64\n",
      " 23  Visibility   19735 non-null  float64\n",
      " 24  Tdewpoint    19735 non-null  float64\n",
      " 25  rv1          19735 non-null  float64\n",
      " 26  rv2          19735 non-null  float64\n",
      "dtypes: float64(26), int64(1)\n",
      "memory usage: 4.1 MB\n"
     ]
    }
   ],
   "source": [
    "df.info()"
   ]
  },
  {
   "cell_type": "code",
   "execution_count": null,
   "id": "dd99c25c",
   "metadata": {},
   "outputs": [],
   "source": [
    "df[\"Appliances\"].nunique()"
   ]
  },
  {
   "cell_type": "code",
   "execution_count": 77,
   "id": "b2f3ce19",
   "metadata": {},
   "outputs": [],
   "source": [
    "corr = df.drop(columns=\"Appliances\").corr()"
   ]
  },
  {
   "cell_type": "raw",
   "id": "f482d14a",
   "metadata": {},
   "source": [
    "corr"
   ]
  },
  {
   "cell_type": "markdown",
   "id": "5ec0bf0c",
   "metadata": {},
   "source": [
    "### Spliting data"
   ]
  },
  {
   "cell_type": "code",
   "execution_count": null,
   "id": "bf0b084a",
   "metadata": {},
   "outputs": [],
   "source": []
  },
  {
   "cell_type": "code",
   "execution_count": 86,
   "id": "daaf3db7",
   "metadata": {},
   "outputs": [],
   "source": [
    "feature = \"Appliances\"\n",
    "X =  df.drop(columns=\"Appliances\")\n",
    "y  = df[feature]"
   ]
  },
  {
   "cell_type": "code",
   "execution_count": 87,
   "id": "fc6cd10b",
   "metadata": {},
   "outputs": [],
   "source": [
    "X_train, X_test, y_train, y_test = train_test_split(X, y, test_size=0.33, random_state=42)"
   ]
  },
  {
   "cell_type": "code",
   "execution_count": 79,
   "id": "509594ca",
   "metadata": {},
   "outputs": [
    {
     "data": {
      "text/plain": [
       "LinearRegression()"
      ]
     },
     "execution_count": 79,
     "metadata": {},
     "output_type": "execute_result"
    }
   ],
   "source": [
    "model =  LinearRegression()\n",
    "model.fit(X_train, y_train)"
   ]
  },
  {
   "cell_type": "code",
   "execution_count": 89,
   "id": "c6c4693d",
   "metadata": {},
   "outputs": [
    {
     "name": "stdout",
     "output_type": "stream",
     "text": [
      "MAE 53.49\n"
     ]
    }
   ],
   "source": [
    "print(\"MAE\", mean_absolute_error(y_train, model.predict(X_train)).round(2))"
   ]
  },
  {
   "cell_type": "code",
   "execution_count": 58,
   "id": "b2c83540",
   "metadata": {},
   "outputs": [
    {
     "data": {
      "text/plain": [
       "LinearRegression()"
      ]
     },
     "execution_count": 58,
     "metadata": {},
     "output_type": "execute_result"
    }
   ],
   "source": [
    "mae = mean_absolute_error()"
   ]
  },
  {
   "cell_type": "code",
   "execution_count": 63,
   "id": "22cf2133",
   "metadata": {},
   "outputs": [
    {
     "name": "stdout",
     "output_type": "stream",
     "text": [
      "MAE 8971.57\n"
     ]
    }
   ],
   "source": [
    "print(\"MAE\", mean_squared_error(y_train, model.predict(X_train)).round(2))"
   ]
  },
  {
   "cell_type": "code",
   "execution_count": null,
   "id": "e5238c76",
   "metadata": {},
   "outputs": [],
   "source": []
  }
 ],
 "metadata": {
  "kernelspec": {
   "display_name": "Python 3 (ipykernel)",
   "language": "python",
   "name": "python3"
  },
  "language_info": {
   "codemirror_mode": {
    "name": "ipython",
    "version": 3
   },
   "file_extension": ".py",
   "mimetype": "text/x-python",
   "name": "python",
   "nbconvert_exporter": "python",
   "pygments_lexer": "ipython3",
   "version": "3.9.13"
  }
 },
 "nbformat": 4,
 "nbformat_minor": 5
}
